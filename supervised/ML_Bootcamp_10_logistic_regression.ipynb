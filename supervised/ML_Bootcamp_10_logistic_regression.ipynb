{
  "nbformat": 4,
  "nbformat_minor": 0,
  "metadata": {
    "colab": {
      "provenance": [],
      "include_colab_link": true
    },
    "kernelspec": {
      "name": "python3",
      "display_name": "Python 3"
    },
    "accelerator": "GPU"
  },
  "cells": [
    {
      "cell_type": "markdown",
      "metadata": {
        "id": "view-in-github",
        "colab_type": "text"
      },
      "source": [
        "<a href=\"https://colab.research.google.com/github/paulinawdowiak1/ML-Bootcamp/blob/main/supervised/ML_Bootcamp_10_logistic_regression.ipynb\" target=\"_parent\"><img src=\"https://colab.research.google.com/assets/colab-badge.svg\" alt=\"Open In Colab\"/></a>"
      ]
    },
    {
      "cell_type": "markdown",
      "metadata": {
        "id": "jjtisHd5whjO"
      },
      "source": [
        "### <a name='a1'></a> Import bibliotek"
      ]
    },
    {
      "cell_type": "code",
      "metadata": {
        "id": "VwB7JWYcv4P-",
        "colab": {
          "base_uri": "https://localhost:8080/",
          "height": 35
        },
        "outputId": "83d5f358-5bb4-4d96-ba6f-ea194312ceff"
      },
      "source": [
        "import numpy as np\n",
        "import pandas as pd\n",
        "import matplotlib.pyplot as plt\n",
        "import plotly.figure_factory as ff\n",
        "import seaborn as sns\n",
        "import sklearn\n",
        "\n",
        "sns.set(font_scale=1.3)\n",
        "np.set_printoptions(precision=6, suppress=True, edgeitems=10, linewidth=100000, \n",
        "                    formatter=dict(float=lambda x: f'{x:.2f}'))\n",
        "np.random.seed(42)\n",
        "sklearn.__version__"
      ],
      "execution_count": 1,
      "outputs": [
        {
          "output_type": "execute_result",
          "data": {
            "text/plain": [
              "'1.0.2'"
            ],
            "application/vnd.google.colaboratory.intrinsic+json": {
              "type": "string"
            }
          },
          "metadata": {},
          "execution_count": 1
        }
      ]
    },
    {
      "cell_type": "markdown",
      "metadata": {
        "id": "tt_AYVtZ0Pgl"
      },
      "source": [
        "###  <a name='a2'></a>  Regresja Logistyczna (Logistic Regression) - wprowadzenie\n",
        "\n",
        "Pomimo nazwy jest to liniowy model do zadań klasyfikacyjnych. Inna nazwa Logit Regression. \n",
        "\n",
        "#### Przykłady zastosowań:\n",
        "- przewidywanie czy mail jest spamem, czy też nie\n",
        "- przewidywanie czy użytkownik kliknie w reklamę\n",
        "- przewidywanie czy nowotwór jest złośliwy czy też nie\n",
        "- przewidywanie czy dłużnik spłaci wierzycielowi dług, czy też zajdzie zdarzenie default\n",
        "- przewidywanie czy transakcja jest próbą oszustwa\n",
        "\n",
        "Przy budowie modelu regresji logistycznej wykorzystamy funkcję sigmoid. Definiuje się ją wzorem:\n",
        "$$sigmoid(x) = \\frac{1}{1+e^{-x}}$$"
      ]
    },
    {
      "cell_type": "code",
      "metadata": {
        "id": "X8NAT_uFkChZ",
        "colab": {
          "base_uri": "https://localhost:8080/",
          "height": 399
        },
        "outputId": "f94e123f-e716-4f0e-b69b-6531170d202a"
      },
      "source": [
        "def sigmoid(x):\n",
        "    return 1 / (1 + np.exp(-x))\n",
        "\n",
        "X = np.arange(-5, 5, 0.1)\n",
        "y = sigmoid(X)\n",
        "\n",
        "plt.figure(figsize=(8, 6))\n",
        "plt.plot(X, y)\n",
        "plt.title('Funkcja Sigmoid')\n",
        "plt.show()"
      ],
      "execution_count": 2,
      "outputs": [
        {
          "output_type": "display_data",
          "data": {
            "text/plain": [
              "<Figure size 576x432 with 1 Axes>"
            ],
            "image/png": "[encoded data removed]"
          },
          "metadata": {}
        }
      ]
    },
    {
      "cell_type": "markdown",
      "metadata": {
        "id": "NAuOPAi6kCy3"
      },
      "source": [
        "Następnie rozważmy funkcję liniową $y = w_0 + w_1x$. Podstawiając to do funkcji sigmoid otrzymujemy:\n",
        "$$p(x) = \\frac{1}{1 + e^{-(w_0 + w_1x)}}$$\n",
        "Dzięki temu przekształceniu regresja logistyczna zwraca nam wartości z przedziału $(0, 1)$ co możemy interpretować jako prawdopodobieństwo i na podstawie tych prawdopodobieństw przewidywać poszczególne klasy."
      ]
    },
    {
      "cell_type": "markdown",
      "metadata": {
        "id": "vJS_z9QUwx0N"
      },
      "source": [
        "###  <a name='a3'></a> Załadowanie danych"
      ]
    },
    {
      "cell_type": "code",
      "metadata": {
        "id": "hkcj5Yb_VhrK",
        "colab": {
          "base_uri": "https://localhost:8080/"
        },
        "outputId": "ee9549d3-ecc5-4fca-8164-dac9f0df707c"
      },
      "source": [
        "from sklearn.datasets import load_breast_cancer\n",
        "\n",
        "raw_data = load_breast_cancer()\n",
        "raw_data.keys()"
      ],
      "execution_count": 3,
      "outputs": [
        {
          "output_type": "execute_result",
          "data": {
            "text/plain": [
              "dict_keys(['data', 'target', 'frame', 'target_names', 'DESCR', 'feature_names', 'filename', 'data_module'])"
            ]
          },
          "metadata": {},
          "execution_count": 3
        }
      ]
    },
    {
      "cell_type": "code",
      "metadata": {
        "id": "RJ_G5IVqeJj_",
        "colab": {
          "base_uri": "https://localhost:8080/",
          "height": 1000
        },
        "outputId": "4453541a-c38f-4632-f9e5-876cbac62f2d"
      },
      "source": [
        "print(raw_data.DESCR)"
      ],
      "execution_count": null,
      "outputs": [
        {
          "output_type": "stream",
          "text": [
            ".. _breast_cancer_dataset:\n",
            "\n",
            "Breast cancer wisconsin (diagnostic) dataset\n",
            "--------------------------------------------\n",
            "\n",
            "**Data Set Characteristics:**\n",
            "\n",
            "    :Number of Instances: 569\n",
            "\n",
            "    :Number of Attributes: 30 numeric, predictive attributes and the class\n",
            "\n",
            "    :Attribute Information:\n",
            "        - radius (mean of distances from center to points on the perimeter)\n",
            "        - texture (standard deviation of gray-scale values)\n",
            "        - perimeter\n",
            "        - area\n",
            "        - smoothness (local variation in radius lengths)\n",
            "        - compactness (perimeter^2 / area - 1.0)\n",
            "        - concavity (severity of concave portions of the contour)\n",
            "        - concave points (number of concave portions of the contour)\n",
            "        - symmetry \n",
            "        - fractal dimension (\"coastline approximation\" - 1)\n",
            "\n",
            "        The mean, standard error, and \"worst\" or largest (mean of the three\n",
            "        largest values) of these features were computed for each image,\n",
            "        resulting in 30 features.  For instance, field 3 is Mean Radius, field\n",
            "        13 is Radius SE, field 23 is Worst Radius.\n",
            "\n",
            "        - class:\n",
            "                - WDBC-Malignant\n",
            "                - WDBC-Benign\n",
            "\n",
            "    :Summary Statistics:\n",
            "\n",
            "    ===================================== ====== ======\n",
            "                                           Min    Max\n",
            "    ===================================== ====== ======\n",
            "    radius (mean):                        6.981  28.11\n",
            "    texture (mean):                       9.71   39.28\n",
            "    perimeter (mean):                     43.79  188.5\n",
            "    area (mean):                          143.5  2501.0\n",
            "    smoothness (mean):                    0.053  0.163\n",
            "    compactness (mean):                   0.019  0.345\n",
            "    concavity (mean):                     0.0    0.427\n",
            "    concave points (mean):                0.0    0.201\n",
            "    symmetry (mean):                      0.106  0.304\n",
            "    fractal dimension (mean):             0.05   0.097\n",
            "    radius (standard error):              0.112  2.873\n",
            "    texture (standard error):             0.36   4.885\n",
            "    perimeter (standard error):           0.757  21.98\n",
            "    area (standard error):                6.802  542.2\n",
            "    smoothness (standard error):          0.002  0.031\n",
            "    compactness (standard error):         0.002  0.135\n",
            "    concavity (standard error):           0.0    0.396\n",
            "    concave points (standard error):      0.0    0.053\n",
            "    symmetry (standard error):            0.008  0.079\n",
            "    fractal dimension (standard error):   0.001  0.03\n",
            "    radius (worst):                       7.93   36.04\n",
            "    texture (worst):                      12.02  49.54\n",
            "    perimeter (worst):                    50.41  251.2\n",
            "    area (worst):                         185.2  4254.0\n",
            "    smoothness (worst):                   0.071  0.223\n",
            "    compactness (worst):                  0.027  1.058\n",
            "    concavity (worst):                    0.0    1.252\n",
            "    concave points (worst):               0.0    0.291\n",
            "    symmetry (worst):                     0.156  0.664\n",
            "    fractal dimension (worst):            0.055  0.208\n",
            "    ===================================== ====== ======\n",
            "\n",
            "    :Missing Attribute Values: None\n",
            "\n",
            "    :Class Distribution: 212 - Malignant, 357 - Benign\n",
            "\n",
            "    :Creator:  Dr. William H. Wolberg, W. Nick Street, Olvi L. Mangasarian\n",
            "\n",
            "    :Donor: Nick Street\n",
            "\n",
            "    :Date: November, 1995\n",
            "\n",
            "This is a copy of UCI ML Breast Cancer Wisconsin (Diagnostic) datasets.\n",
            "https://goo.gl/U2Uwz2\n",
            "\n",
            "Features are computed from a digitized image of a fine needle\n",
            "aspirate (FNA) of a breast mass.  They describe\n",
            "characteristics of the cell nuclei present in the image.\n",
            "\n",
            "Separating plane described above was obtained using\n",
            "Multisurface Method-Tree (MSM-T) [K. P. Bennett, \"Decision Tree\n",
            "Construction Via Linear Programming.\" Proceedings of the 4th\n",
            "Midwest Artificial Intelligence and Cognitive Science Society,\n",
            "pp. 97-101, 1992], a classification method which uses linear\n",
            "programming to construct a decision tree.  Relevant features\n",
            "were selected using an exhaustive search in the space of 1-4\n",
            "features and 1-3 separating planes.\n",
            "\n",
            "The actual linear program used to obtain the separating plane\n",
            "in the 3-dimensional space is that described in:\n",
            "[K. P. Bennett and O. L. Mangasarian: \"Robust Linear\n",
            "Programming Discrimination of Two Linearly Inseparable Sets\",\n",
            "Optimization Methods and Software 1, 1992, 23-34].\n",
            "\n",
            "This database is also available through the UW CS ftp server:\n",
            "\n",
            "ftp ftp.cs.wisc.edu\n",
            "cd math-prog/cpo-dataset/machine-learn/WDBC/\n",
            "\n",
            ".. topic:: References\n",
            "\n",
            "   - W.N. Street, W.H. Wolberg and O.L. Mangasarian. Nuclear feature extraction \n",
            "     for breast tumor diagnosis. IS&T/SPIE 1993 International Symposium on \n",
            "     Electronic Imaging: Science and Technology, volume 1905, pages 861-870,\n",
            "     San Jose, CA, 1993.\n",
            "   - O.L. Mangasarian, W.N. Street and W.H. Wolberg. Breast cancer diagnosis and \n",
            "     prognosis via linear programming. Operations Research, 43(4), pages 570-577, \n",
            "     July-August 1995.\n",
            "   - W.H. Wolberg, W.N. Street, and O.L. Mangasarian. Machine learning techniques\n",
            "     to diagnose breast cancer from fine-needle aspirates. Cancer Letters 77 (1994) \n",
            "     163-171.\n"
          ],
          "name": "stdout"
        }
      ]
    },
    {
      "cell_type": "code",
      "source": [
        "all_data = raw_data.copy()\n",
        "\n",
        "data = all_data['data']\n",
        "target = all_data['target']\n",
        "\n",
        "print(f'rozmiar data: {data.shape}')\n",
        "print(f'rozmiar target: {target.shape}')"
      ],
      "metadata": {
        "colab": {
          "base_uri": "https://localhost:8080/"
        },
        "id": "e5OG5m_2ouTS",
        "outputId": "260ee891-6617-4859-92d3-c65b2a30eaa9"
      },
      "execution_count": 4,
      "outputs": [
        {
          "output_type": "stream",
          "name": "stdout",
          "text": [
            "rozmiar data: (569, 30)\n",
            "rozmiar target: (569,)\n"
          ]
        }
      ]
    },
    {
      "cell_type": "markdown",
      "metadata": {
        "id": "QALWVO-j2BoE"
      },
      "source": [
        "###  <a name='a4'></a> Podział danych na zbiór treningowy i testowy"
      ]
    },
    {
      "cell_type": "code",
      "source": [
        "from sklearn.model_selection import train_test_split\n",
        "\n",
        "X_train, X_test, y_train, y_test = train_test_split(data, target)\n",
        "\n",
        "print(f'X_train shape:{X_train.shape}')\n",
        "print(f'y_train shape: {y_train.shape}')\n",
        "print(f'X_test shape:{X_test.shape}')\n",
        "print(f'y_test shape: {y_test.shape}')"
      ],
      "metadata": {
        "colab": {
          "base_uri": "https://localhost:8080/"
        },
        "id": "_P_jkeb4pRtC",
        "outputId": "29f03d16-3f03-407e-cc56-8d7da8e30c75"
      },
      "execution_count": 7,
      "outputs": [
        {
          "output_type": "stream",
          "name": "stdout",
          "text": [
            "X_train shape:(426, 30)\n",
            "y_train shape: (426,)\n",
            "X_test shape:(143, 30)\n",
            "y_test shape: (143,)\n"
          ]
        }
      ]
    },
    {
      "cell_type": "markdown",
      "metadata": {
        "id": "Lr-uabGbhX1w"
      },
      "source": [
        "###  <a name='a44'></a> Przygotowanie danych do modelu"
      ]
    },
    {
      "cell_type": "code",
      "source": [
        "X_train"
      ],
      "metadata": {
        "colab": {
          "base_uri": "https://localhost:8080/"
        },
        "id": "muzS2nNgp44q",
        "outputId": "b3a83e2e-7165-4e91-e999-20fc0b2e25aa"
      },
      "execution_count": 8,
      "outputs": [
        {
          "output_type": "execute_result",
          "data": {
            "text/plain": [
              "array([[12.89, 13.12, 81.89, 515.90, 0.07, 0.04, 0.02, 0.01, 0.13, 0.06, ..., 13.62, 15.54, 87.40, 577.00, 0.10, 0.11, 0.12, 0.05, 0.23, 0.07],\n",
              "       [13.40, 20.52, 88.64, 556.70, 0.11, 0.15, 0.14, 0.08, 0.21, 0.07, ..., 16.41, 29.66, 113.30, 844.40, 0.16, 0.39, 0.51, 0.21, 0.36, 0.11],\n",
              "       [12.96, 18.29, 84.18, 525.20, 0.07, 0.08, 0.04, 0.02, 0.19, 0.06, ..., 14.13, 24.61, 96.31, 621.90, 0.09, 0.23, 0.16, 0.07, 0.32, 0.07],\n",
              "       [17.75, 28.03, 117.30, 981.60, 0.10, 0.13, 0.17, 0.08, 0.17, 0.06, ..., 21.53, 38.54, 145.40, 1437.00, 0.14, 0.38, 0.64, 0.20, 0.30, 0.09],\n",
              "       [20.58, 22.14, 134.70, 1290.00, 0.09, 0.13, 0.16, 0.10, 0.18, 0.05, ..., 23.24, 27.84, 158.30, 1656.00, 0.12, 0.29, 0.39, 0.19, 0.29, 0.06],\n",
              "       [15.28, 22.41, 98.92, 710.60, 0.09, 0.11, 0.05, 0.03, 0.17, 0.06, ..., 17.80, 28.03, 113.80, 973.10, 0.13, 0.33, 0.36, 0.12, 0.32, 0.10],\n",
              "       [13.78, 15.79, 88.37, 585.90, 0.09, 0.07, 0.01, 0.01, 0.14, 0.06, ..., 15.27, 17.50, 97.90, 706.60, 0.11, 0.11, 0.04, 0.03, 0.19, 0.07],\n",
              "       [15.10, 22.02, 97.26, 712.80, 0.09, 0.07, 0.05, 0.03, 0.16, 0.06, ..., 18.10, 31.69, 117.70, 1030.00, 0.14, 0.21, 0.27, 0.15, 0.27, 0.08],\n",
              "       [12.34, 14.95, 78.29, 469.10, 0.09, 0.05, 0.02, 0.02, 0.16, 0.06, ..., 13.18, 16.85, 84.11, 533.10, 0.10, 0.07, 0.05, 0.05, 0.23, 0.06],\n",
              "       [8.20, 16.84, 51.71, 201.90, 0.09, 0.06, 0.02, 0.01, 0.18, 0.07, ..., 8.96, 21.96, 57.26, 242.20, 0.13, 0.14, 0.07, 0.03, 0.31, 0.07],\n",
              "       ...,\n",
              "       [16.03, 15.51, 105.80, 793.20, 0.09, 0.14, 0.12, 0.07, 0.18, 0.06, ..., 18.76, 21.98, 124.30, 1070.00, 0.14, 0.45, 0.50, 0.20, 0.30, 0.09],\n",
              "       [14.19, 23.81, 92.87, 610.70, 0.09, 0.13, 0.11, 0.06, 0.22, 0.06, ..., 16.86, 34.85, 115.00, 811.30, 0.16, 0.41, 0.37, 0.18, 0.47, 0.10],\n",
              "       [13.14, 20.74, 85.98, 536.90, 0.09, 0.11, 0.11, 0.04, 0.16, 0.06, ..., 14.80, 25.46, 100.90, 689.10, 0.14, 0.35, 0.45, 0.12, 0.26, 0.08],\n",
              "       [18.66, 17.12, 121.40, 1077.00, 0.11, 0.11, 0.15, 0.09, 0.20, 0.06, ..., 22.25, 24.90, 145.40, 1549.00, 0.15, 0.23, 0.33, 0.17, 0.29, 0.08],\n",
              "       [13.08, 15.71, 85.63, 520.00, 0.11, 0.13, 0.05, 0.03, 0.20, 0.07, ..., 14.50, 20.49, 96.09, 630.50, 0.13, 0.28, 0.19, 0.07, 0.32, 0.08],\n",
              "       [8.89, 14.64, 58.79, 244.00, 0.10, 0.15, 0.09, 0.03, 0.19, 0.09, ..., 9.73, 15.67, 62.56, 284.40, 0.12, 0.24, 0.14, 0.05, 0.23, 0.11],\n",
              "       [11.64, 18.33, 75.17, 412.50, 0.11, 0.10, 0.07, 0.03, 0.18, 0.07, ..., 13.14, 29.26, 85.51, 521.70, 0.17, 0.27, 0.29, 0.12, 0.28, 0.09],\n",
              "       [14.29, 16.82, 90.30, 632.60, 0.06, 0.03, 0.01, 0.01, 0.15, 0.05, ..., 14.91, 20.65, 94.44, 684.60, 0.09, 0.05, 0.04, 0.03, 0.25, 0.06],\n",
              "       [13.98, 19.62, 91.12, 599.50, 0.11, 0.11, 0.11, 0.06, 0.17, 0.07, ..., 17.04, 30.80, 113.90, 869.30, 0.16, 0.36, 0.41, 0.18, 0.32, 0.11],\n",
              "       [12.18, 20.52, 77.22, 458.70, 0.08, 0.04, 0.02, 0.02, 0.17, 0.06, ..., 13.34, 32.84, 84.58, 547.80, 0.11, 0.09, 0.11, 0.07, 0.27, 0.07]])"
            ]
          },
          "metadata": {},
          "execution_count": 8
        }
      ]
    },
    {
      "cell_type": "code",
      "source": [
        "from sklearn.preprocessing import StandardScaler\n",
        "#wszelkie dane do standaryzacji dokonujemy na zbiorze treningowym, ale trasnformujemy zarówno na train jak i test\n",
        "scaler = StandardScaler()\n",
        "scaler.fit(X_train)\n",
        "\n",
        "X_train = scaler.transform(X_train)\n",
        "X_test = scaler.transform(X_test)\n",
        "X_train"
      ],
      "metadata": {
        "colab": {
          "base_uri": "https://localhost:8080/"
        },
        "id": "o_0-LLMPqB6L",
        "outputId": "073a59d2-1dc3-4716-9c4d-ae2087bdb47c"
      },
      "execution_count": 9,
      "outputs": [
        {
          "output_type": "execute_result",
          "data": {
            "text/plain": [
              "array([[-0.35, -1.44, -0.41, -0.39, -1.86, -1.27, -0.83, -0.95, -1.73, -0.94, ..., -0.54, -1.66, -0.59, -0.53, -1.51, -0.89, -0.75, -0.92, -0.93, -0.81],\n",
              "       [-0.20, 0.31, -0.13, -0.28, 1.08, 0.86, 0.73, 0.90, 1.18, 1.47, ..., 0.04, 0.69, 0.19, -0.05, 1.13, 0.92, 1.22, 1.44, 1.15, 1.57],\n",
              "       [-0.33, -0.22, -0.32, -0.36, -1.58, -0.46, -0.60, -0.76, 0.28, -0.50, ..., -0.44, -0.15, -0.32, -0.45, -1.63, -0.11, -0.54, -0.72, 0.53, -0.62],\n",
              "       [1.03, 2.09, 1.05, 0.92, 0.32, 0.56, 1.05, 0.93, -0.33, -0.48, ..., 1.11, 2.17, 1.17, 1.00, 0.38, 0.86, 1.87, 1.31, 0.15, 0.42],\n",
              "       [1.83, 0.70, 1.76, 1.78, -0.33, 0.63, 0.97, 1.27, -0.13, -1.71, ..., 1.47, 0.39, 1.56, 1.39, -0.58, 0.30, 0.60, 1.23, 0.05, -1.41],\n",
              "       [0.33, 0.76, 0.29, 0.16, -0.36, 0.05, -0.43, -0.40, -0.27, 0.08, ..., 0.33, 0.42, 0.21, 0.18, -0.05, 0.55, 0.48, 0.15, 0.48, 0.82],\n",
              "       [-0.10, -0.81, -0.14, -0.19, -0.53, -0.69, -0.98, -1.00, -1.48, -0.57, ..., -0.20, -1.33, -0.27, -0.30, -1.03, -0.94, -1.17, -1.24, -1.66, -0.87],\n",
              "       [0.28, 0.67, 0.22, 0.16, -0.36, -0.62, -0.44, -0.38, -0.69, -0.80, ..., 0.40, 1.03, 0.33, 0.28, 0.33, -0.28, 0.02, 0.63, -0.33, -0.26],\n",
              "       [-0.50, -1.01, -0.56, -0.52, -0.63, -1.10, -0.85, -0.72, -0.86, -0.77, ..., -0.63, -1.44, -0.69, -0.60, -1.14, -1.21, -1.10, -1.01, -0.94, -1.34],\n",
              "       [-1.68, -0.56, -1.65, -1.27, -0.68, -0.84, -0.91, -1.11, -0.12, 0.34, ..., -1.52, -0.59, -1.50, -1.12, -0.06, -0.75, -1.00, -1.35, 0.37, -0.53],\n",
              "       ...,\n",
              "       [0.54, -0.87, 0.57, 0.39, -0.05, 0.67, 0.42, 0.60, -0.07, -0.39, ..., 0.53, -0.59, 0.53, 0.35, 0.53, 1.34, 1.15, 1.33, 0.23, 0.45],\n",
              "       [0.02, 1.09, 0.04, -0.12, -0.07, 0.55, 0.31, 0.45, 1.62, 0.24, ..., 0.14, 1.55, 0.25, -0.11, 1.06, 1.06, 0.54, 1.00, 3.00, 1.10],\n",
              "       [-0.28, 0.36, -0.24, -0.33, -0.63, 0.12, 0.27, -0.33, -0.89, -0.33, ..., -0.30, -0.01, -0.18, -0.33, 0.17, 0.72, 0.92, 0.08, -0.51, -0.09],\n",
              "       [1.29, -0.49, 1.22, 1.19, 0.71, 0.15, 0.74, 1.03, 0.62, -0.07, ..., 1.26, -0.10, 1.17, 1.20, 0.82, -0.12, 0.30, 0.85, 0.03, 0.07],\n",
              "       [-0.30, -0.83, -0.26, -0.38, 0.86, 0.48, -0.53, -0.44, 0.62, 0.76, ..., -0.36, -0.83, -0.33, -0.43, -0.00, 0.20, -0.40, -0.62, 0.50, -0.09],\n",
              "       [-1.48, -1.08, -1.36, -1.15, 0.16, 0.98, -0.02, -0.50, 0.38, 3.77, ..., -1.36, -1.63, -1.34, -1.04, -0.45, -0.03, -0.63, -1.01, -1.01, 1.43],\n",
              "       [-0.70, -0.21, -0.69, -0.68, 1.34, -0.02, -0.21, -0.34, 0.00, 0.36, ..., -0.64, 0.62, -0.65, -0.62, 1.62, 0.12, 0.10, 0.14, -0.12, 0.43],\n",
              "       [0.05, -0.56, -0.07, -0.06, -2.24, -1.47, -1.02, -1.10, -1.09, -1.23, ..., -0.27, -0.81, -0.38, -0.33, -1.96, -1.32, -1.15, -1.23, -0.68, -1.26],\n",
              "       [-0.04, 0.10, -0.03, -0.16, 0.75, 0.21, 0.32, 0.45, -0.49, 0.39, ..., 0.17, 0.88, 0.21, -0.01, 1.30, 0.73, 0.70, 1.09, 0.49, 1.26],\n",
              "       [-0.55, 0.31, -0.60, -0.55, -1.11, -1.21, -0.81, -0.79, -0.23, -0.81, ..., -0.60, 1.22, -0.68, -0.58, -0.81, -1.07, -0.77, -0.60, -0.30, -0.83]])"
            ]
          },
          "metadata": {},
          "execution_count": 9
        }
      ]
    },
    {
      "cell_type": "code",
      "source": [
        "scaler.mean_ "
      ],
      "metadata": {
        "colab": {
          "base_uri": "https://localhost:8080/"
        },
        "id": "5SvLX4bFqZpy",
        "outputId": "a46eca5d-ad14-438d-fda7-4122d92e49c2"
      },
      "execution_count": 10,
      "outputs": [
        {
          "output_type": "execute_result",
          "data": {
            "text/plain": [
              "array([14.12, 19.20, 91.89, 654.92, 0.10, 0.10, 0.09, 0.05, 0.18, 0.06, 0.40, 1.21, 2.86, 40.13, 0.01, 0.03, 0.03, 0.01, 0.02, 0.00, 16.21, 25.51, 106.89, 873.72, 0.13, 0.25, 0.27, 0.11, 0.29, 0.08])"
            ]
          },
          "metadata": {},
          "execution_count": 10
        }
      ]
    },
    {
      "cell_type": "code",
      "source": [
        "scaler.scale_ #odchylenie standardowe"
      ],
      "metadata": {
        "colab": {
          "base_uri": "https://localhost:8080/"
        },
        "id": "y0oJZIytq06q",
        "outputId": "bc2b774e-5ae4-4e59-e88c-941ca9d79f1b"
      },
      "execution_count": 11,
      "outputs": [
        {
          "output_type": "execute_result",
          "data": {
            "text/plain": [
              "array([3.53, 4.23, 24.28, 356.02, 0.01, 0.05, 0.08, 0.04, 0.03, 0.01, 0.29, 0.54, 2.09, 47.97, 0.00, 0.02, 0.03, 0.01, 0.01, 0.00, 4.78, 6.02, 33.04, 564.58, 0.02, 0.15, 0.20, 0.06, 0.06, 0.02])"
            ]
          },
          "metadata": {},
          "execution_count": 11
        }
      ]
    },
    {
      "cell_type": "markdown",
      "metadata": {
        "id": "lhrp8Nqr2azD"
      },
      "source": [
        "###<a name='a5'></a>  Dopasowanie modelu"
      ]
    },
    {
      "cell_type": "code",
      "source": [
        "from sklearn.linear_model import LogisticRegression\n",
        "\n",
        "log_reg = LogisticRegression()\n",
        "log_reg.fit(X_train, y_train)"
      ],
      "metadata": {
        "colab": {
          "base_uri": "https://localhost:8080/"
        },
        "id": "n9pKo171rSnk",
        "outputId": "a95ce443-3ec0-4614-f1fc-4570ef295da9"
      },
      "execution_count": 12,
      "outputs": [
        {
          "output_type": "execute_result",
          "data": {
            "text/plain": [
              "LogisticRegression()"
            ]
          },
          "metadata": {},
          "execution_count": 12
        }
      ]
    },
    {
      "cell_type": "markdown",
      "metadata": {
        "id": "XgZm_dZFxZqc"
      },
      "source": [
        "###<a name='a6'></a>  Predykcja na podstawie modelu"
      ]
    },
    {
      "cell_type": "code",
      "source": [
        "y_pred = log_reg.predict(X_test)\n",
        "y_pred[:30]\n",
        "#daje nam wyniki w postaci zakwalifikowanej klasy rak / nie rak"
      ],
      "metadata": {
        "colab": {
          "base_uri": "https://localhost:8080/"
        },
        "id": "QdEnjNXIrjYq",
        "outputId": "61665bf1-e65d-406a-affd-628280f031b6"
      },
      "execution_count": 13,
      "outputs": [
        {
          "output_type": "execute_result",
          "data": {
            "text/plain": [
              "array([1, 0, 0, 1, 1, 0, 0, 0, 1, 1, 1, 0, 1, 0, 1, 0, 1, 1, 1, 0, 1, 1, 0, 1, 1, 1, 1, 1, 1, 0])"
            ]
          },
          "metadata": {},
          "execution_count": 13
        }
      ]
    },
    {
      "cell_type": "code",
      "source": [
        "y_prob = log_reg.predict_proba(X_test)\n",
        "y_prob[:30]\n",
        "#daje prawdopodobieństwo zakwalifikowania do danej klasy / na tej podstawie dobierane są odpowiednie klasy"
      ],
      "metadata": {
        "colab": {
          "base_uri": "https://localhost:8080/"
        },
        "id": "5uwGo-8arvoT",
        "outputId": "e30e31ae-68fe-4bc5-b969-d8e85ed1e3d5"
      },
      "execution_count": 16,
      "outputs": [
        {
          "output_type": "execute_result",
          "data": {
            "text/plain": [
              "array([[0.12, 0.88],\n",
              "       [1.00, 0.00],\n",
              "       [1.00, 0.00],\n",
              "       [0.00, 1.00],\n",
              "       [0.00, 1.00],\n",
              "       [1.00, 0.00],\n",
              "       [1.00, 0.00],\n",
              "       [0.96, 0.04],\n",
              "       [0.42, 0.58],\n",
              "       [0.00, 1.00],\n",
              "       [0.05, 0.95],\n",
              "       [0.99, 0.01],\n",
              "       [0.01, 0.99],\n",
              "       [0.85, 0.15],\n",
              "       [0.00, 1.00],\n",
              "       [1.00, 0.00],\n",
              "       [0.00, 1.00],\n",
              "       [0.00, 1.00],\n",
              "       [0.00, 1.00],\n",
              "       [1.00, 0.00],\n",
              "       [0.08, 0.92],\n",
              "       [0.01, 0.99],\n",
              "       [1.00, 0.00],\n",
              "       [0.00, 1.00],\n",
              "       [0.00, 1.00],\n",
              "       [0.00, 1.00],\n",
              "       [0.00, 1.00],\n",
              "       [0.01, 0.99],\n",
              "       [0.00, 1.00],\n",
              "       [1.00, 0.00]])"
            ]
          },
          "metadata": {},
          "execution_count": 16
        }
      ]
    },
    {
      "cell_type": "markdown",
      "metadata": {
        "id": "IusW8zgExjea"
      },
      "source": [
        "###<a name='a7'></a>  Ocena modelu"
      ]
    },
    {
      "cell_type": "code",
      "source": [
        "from sklearn.metrics import confusion_matrix\n",
        "from sklearn.metrics import accuracy_score\n",
        "from mlxtend.plotting import plot_confusion_matrix\n",
        "\n",
        "cm = confusion_matrix(y_test, y_pred)\n",
        "plot_confusion_matrix(cm)\n",
        "\n",
        "print(f'Accuracy: {accuracy_score(y_test, y_pred)}')"
      ],
      "metadata": {
        "colab": {
          "base_uri": "https://localhost:8080/",
          "height": 308
        },
        "id": "LLOyBpzdsj9L",
        "outputId": "561a7613-6ef3-444a-caa1-c0c2e6f67c6d"
      },
      "execution_count": 18,
      "outputs": [
        {
          "output_type": "stream",
          "name": "stdout",
          "text": [
            "Accuracy: 0.9790209790209791\n"
          ]
        },
        {
          "output_type": "display_data",
          "data": {
            "text/plain": [
              "<Figure size 432x288 with 1 Axes>"
            ],
            "image/png": "[encoded data removed]"
          },
          "metadata": {}
        }
      ]
    },
    {
      "cell_type": "code",
      "source": [
        "def plot_confusion_matrix(cm):\n",
        "    cm = cm[::-1]\n",
        "    cm = pd.DataFrame(cm, columns=['pred 0', 'pred_1'], index=['true_1','true_0'])\n",
        "\n",
        "    fig = ff.create_annotated_heatmap(z=cm.values, x=list(cm.columns), y=list(cm.index),\n",
        "                                    colorscale='ice', showscale=True, reversescale=True)\n",
        "    fig.update_layout(width=500, height=500, title='Confusion Matrix', font_size=16)\n",
        "    fig.show()\n",
        "\n",
        "plot_confusion_matrix(cm)"
      ],
      "metadata": {
        "colab": {
          "base_uri": "https://localhost:8080/",
          "height": 517
        },
        "id": "2aRb6pN9tunD",
        "outputId": "7fb8c053-a9a6-4cdf-ef79-42941eee6d65"
      },
      "execution_count": 20,
      "outputs": [
        {
          "output_type": "display_data",
          "data": {
            "text/html": [
              "<html>\n",
              "<head><meta charset=\"utf-8\" /></head>\n",
              "<body>\n",
              "    <div>            <script src=\"https://cdnjs.cloudflare.com/ajax/libs/mathjax/2.7.5/MathJax.js?config=TeX-AMS-MML_SVG\"></script><script type=\"text/javascript\">if (window.MathJax) {MathJax.Hub.Config({SVG: {font: \"STIX-Web\"}});}</script>                <script type=\"text/javascript\">window.PlotlyConfig = {MathJaxConfig: 'local'};</script>\n",
              "        <script src=\"https://cdn.plot.ly/plotly-2.8.3.min.js\"></script>                <div id=\"17cdb60e-1338-4c9b-8cab-ef8c24d1762a\" class=\"plotly-graph-div\" style=\"height:500px; width:500px;\"></div>            <script type=\"text/javascript\">                                    window.PLOTLYENV=window.PLOTLYENV || {};                                    if (document.getElementById(\"17cdb60e-1338-4c9b-8cab-ef8c24d1762a\")) {                    Plotly.newPlot(                        \"17cdb60e-1338-4c9b-8cab-ef8c24d1762a\",                        [{\"colorscale\":[[0.0,\"rgb(3, 5, 18)\"],[0.09090909090909091,\"rgb(25, 25, 51)\"],[0.18181818181818182,\"rgb(44, 42, 87)\"],[0.2727272727272727,\"rgb(58, 60, 125)\"],[0.36363636363636365,\"rgb(62, 83, 160)\"],[0.45454545454545453,\"rgb(62, 109, 178)\"],[0.5454545454545454,\"rgb(72, 134, 187)\"],[0.6363636363636364,\"rgb(89, 159, 196)\"],[0.7272727272727273,\"rgb(114, 184, 205)\"],[0.8181818181818182,\"rgb(149, 207, 216)\"],[0.9090909090909091,\"rgb(192, 229, 232)\"],[1.0,\"rgb(234, 252, 253)\"]],\"reversescale\":true,\"showscale\":true,\"x\":[\"pred 0\",\"pred_1\"],\"y\":[\"true_1\",\"true_0\"],\"z\":[[2,87],[53,1]],\"type\":\"heatmap\"}],                        {\"annotations\":[{\"font\":{\"color\":\"#000000\"},\"showarrow\":false,\"text\":\"2\",\"x\":\"pred 0\",\"xref\":\"x\",\"y\":\"true_1\",\"yref\":\"y\"},{\"font\":{\"color\":\"#FFFFFF\"},\"showarrow\":false,\"text\":\"87\",\"x\":\"pred_1\",\"xref\":\"x\",\"y\":\"true_1\",\"yref\":\"y\"},{\"font\":{\"color\":\"#FFFFFF\"},\"showarrow\":false,\"text\":\"53\",\"x\":\"pred 0\",\"xref\":\"x\",\"y\":\"true_0\",\"yref\":\"y\"},{\"font\":{\"color\":\"#000000\"},\"showarrow\":false,\"text\":\"1\",\"x\":\"pred_1\",\"xref\":\"x\",\"y\":\"true_0\",\"yref\":\"y\"}],\"xaxis\":{\"dtick\":1,\"gridcolor\":\"rgb(0, 0, 0)\",\"side\":\"top\",\"ticks\":\"\"},\"yaxis\":{\"dtick\":1,\"ticks\":\"\",\"ticksuffix\":\"  \"},\"template\":{\"data\":{\"bar\":[{\"error_x\":{\"color\":\"#2a3f5f\"},\"error_y\":{\"color\":\"#2a3f5f\"},\"marker\":{\"line\":{\"color\":\"#E5ECF6\",\"width\":0.5},\"pattern\":{\"fillmode\":\"overlay\",\"size\":10,\"solidity\":0.2}},\"type\":\"bar\"}],\"barpolar\":[{\"marker\":{\"line\":{\"color\":\"#E5ECF6\",\"width\":0.5},\"pattern\":{\"fillmode\":\"overlay\",\"size\":10,\"solidity\":0.2}},\"type\":\"barpolar\"}],\"carpet\":[{\"aaxis\":{\"endlinecolor\":\"#2a3f5f\",\"gridcolor\":\"white\",\"linecolor\":\"white\",\"minorgridcolor\":\"white\",\"startlinecolor\":\"#2a3f5f\"},\"baxis\":{\"endlinecolor\":\"#2a3f5f\",\"gridcolor\":\"white\",\"linecolor\":\"white\",\"minorgridcolor\":\"white\",\"startlinecolor\":\"#2a3f5f\"},\"type\":\"carpet\"}],\"choropleth\":[{\"colorbar\":{\"outlinewidth\":0,\"ticks\":\"\"},\"type\":\"choropleth\"}],\"contour\":[{\"colorbar\":{\"outlinewidth\":0,\"ticks\":\"\"},\"colorscale\":[[0.0,\"#0d0887\"],[0.1111111111111111,\"#46039f\"],[0.2222222222222222,\"#7201a8\"],[0.3333333333333333,\"#9c179e\"],[0.4444444444444444,\"#bd3786\"],[0.5555555555555556,\"#d8576b\"],[0.6666666666666666,\"#ed7953\"],[0.7777777777777778,\"#fb9f3a\"],[0.8888888888888888,\"#fdca26\"],[1.0,\"#f0f921\"]],\"type\":\"contour\"}],\"contourcarpet\":[{\"colorbar\":{\"outlinewidth\":0,\"ticks\":\"\"},\"type\":\"contourcarpet\"}],\"heatmap\":[{\"colorbar\":{\"outlinewidth\":0,\"ticks\":\"\"},\"colorscale\":[[0.0,\"#0d0887\"],[0.1111111111111111,\"#46039f\"],[0.2222222222222222,\"#7201a8\"],[0.3333333333333333,\"#9c179e\"],[0.4444444444444444,\"#bd3786\"],[0.5555555555555556,\"#d8576b\"],[0.6666666666666666,\"#ed7953\"],[0.7777777777777778,\"#fb9f3a\"],[0.8888888888888888,\"#fdca26\"],[1.0,\"#f0f921\"]],\"type\":\"heatmap\"}],\"heatmapgl\":[{\"colorbar\":{\"outlinewidth\":0,\"ticks\":\"\"},\"colorscale\":[[0.0,\"#0d0887\"],[0.1111111111111111,\"#46039f\"],[0.2222222222222222,\"#7201a8\"],[0.3333333333333333,\"#9c179e\"],[0.4444444444444444,\"#bd3786\"],[0.5555555555555556,\"#d8576b\"],[0.6666666666666666,\"#ed7953\"],[0.7777777777777778,\"#fb9f3a\"],[0.8888888888888888,\"#fdca26\"],[1.0,\"#f0f921\"]],\"type\":\"heatmapgl\"}],\"histogram\":[{\"marker\":{\"pattern\":{\"fillmode\":\"overlay\",\"size\":10,\"solidity\":0.2}},\"type\":\"histogram\"}],\"histogram2d\":[{\"colorbar\":{\"outlinewidth\":0,\"ticks\":\"\"},\"colorscale\":[[0.0,\"#0d0887\"],[0.1111111111111111,\"#46039f\"],[0.2222222222222222,\"#7201a8\"],[0.3333333333333333,\"#9c179e\"],[0.4444444444444444,\"#bd3786\"],[0.5555555555555556,\"#d8576b\"],[0.6666666666666666,\"#ed7953\"],[0.7777777777777778,\"#fb9f3a\"],[0.8888888888888888,\"#fdca26\"],[1.0,\"#f0f921\"]],\"type\":\"histogram2d\"}],\"histogram2dcontour\":[{\"colorbar\":{\"outlinewidth\":0,\"ticks\":\"\"},\"colorscale\":[[0.0,\"#0d0887\"],[0.1111111111111111,\"#46039f\"],[0.2222222222222222,\"#7201a8\"],[0.3333333333333333,\"#9c179e\"],[0.4444444444444444,\"#bd3786\"],[0.5555555555555556,\"#d8576b\"],[0.6666666666666666,\"#ed7953\"],[0.7777777777777778,\"#fb9f3a\"],[0.8888888888888888,\"#fdca26\"],[1.0,\"#f0f921\"]],\"type\":\"histogram2dcontour\"}],\"mesh3d\":[{\"colorbar\":{\"outlinewidth\":0,\"ticks\":\"\"},\"type\":\"mesh3d\"}],\"parcoords\":[{\"line\":{\"colorbar\":{\"outlinewidth\":0,\"ticks\":\"\"}},\"type\":\"parcoords\"}],\"pie\":[{\"automargin\":true,\"type\":\"pie\"}],\"scatter\":[{\"marker\":{\"colorbar\":{\"outlinewidth\":0,\"ticks\":\"\"}},\"type\":\"scatter\"}],\"scatter3d\":[{\"line\":{\"colorbar\":{\"outlinewidth\":0,\"ticks\":\"\"}},\"marker\":{\"colorbar\":{\"outlinewidth\":0,\"ticks\":\"\"}},\"type\":\"scatter3d\"}],\"scattercarpet\":[{\"marker\":{\"colorbar\":{\"outlinewidth\":0,\"ticks\":\"\"}},\"type\":\"scattercarpet\"}],\"scattergeo\":[{\"marker\":{\"colorbar\":{\"outlinewidth\":0,\"ticks\":\"\"}},\"type\":\"scattergeo\"}],\"scattergl\":[{\"marker\":{\"colorbar\":{\"outlinewidth\":0,\"ticks\":\"\"}},\"type\":\"scattergl\"}],\"scattermapbox\":[{\"marker\":{\"colorbar\":{\"outlinewidth\":0,\"ticks\":\"\"}},\"type\":\"scattermapbox\"}],\"scatterpolar\":[{\"marker\":{\"colorbar\":{\"outlinewidth\":0,\"ticks\":\"\"}},\"type\":\"scatterpolar\"}],\"scatterpolargl\":[{\"marker\":{\"colorbar\":{\"outlinewidth\":0,\"ticks\":\"\"}},\"type\":\"scatterpolargl\"}],\"scatterternary\":[{\"marker\":{\"colorbar\":{\"outlinewidth\":0,\"ticks\":\"\"}},\"type\":\"scatterternary\"}],\"surface\":[{\"colorbar\":{\"outlinewidth\":0,\"ticks\":\"\"},\"colorscale\":[[0.0,\"#0d0887\"],[0.1111111111111111,\"#46039f\"],[0.2222222222222222,\"#7201a8\"],[0.3333333333333333,\"#9c179e\"],[0.4444444444444444,\"#bd3786\"],[0.5555555555555556,\"#d8576b\"],[0.6666666666666666,\"#ed7953\"],[0.7777777777777778,\"#fb9f3a\"],[0.8888888888888888,\"#fdca26\"],[1.0,\"#f0f921\"]],\"type\":\"surface\"}],\"table\":[{\"cells\":{\"fill\":{\"color\":\"#EBF0F8\"},\"line\":{\"color\":\"white\"}},\"header\":{\"fill\":{\"color\":\"#C8D4E3\"},\"line\":{\"color\":\"white\"}},\"type\":\"table\"}]},\"layout\":{\"annotationdefaults\":{\"arrowcolor\":\"#2a3f5f\",\"arrowhead\":0,\"arrowwidth\":1},\"autotypenumbers\":\"strict\",\"coloraxis\":{\"colorbar\":{\"outlinewidth\":0,\"ticks\":\"\"}},\"colorscale\":{\"diverging\":[[0,\"#8e0152\"],[0.1,\"#c51b7d\"],[0.2,\"#de77ae\"],[0.3,\"#f1b6da\"],[0.4,\"#fde0ef\"],[0.5,\"#f7f7f7\"],[0.6,\"#e6f5d0\"],[0.7,\"#b8e186\"],[0.8,\"#7fbc41\"],[0.9,\"#4d9221\"],[1,\"#276419\"]],\"sequential\":[[0.0,\"#0d0887\"],[0.1111111111111111,\"#46039f\"],[0.2222222222222222,\"#7201a8\"],[0.3333333333333333,\"#9c179e\"],[0.4444444444444444,\"#bd3786\"],[0.5555555555555556,\"#d8576b\"],[0.6666666666666666,\"#ed7953\"],[0.7777777777777778,\"#fb9f3a\"],[0.8888888888888888,\"#fdca26\"],[1.0,\"#f0f921\"]],\"sequentialminus\":[[0.0,\"#0d0887\"],[0.1111111111111111,\"#46039f\"],[0.2222222222222222,\"#7201a8\"],[0.3333333333333333,\"#9c179e\"],[0.4444444444444444,\"#bd3786\"],[0.5555555555555556,\"#d8576b\"],[0.6666666666666666,\"#ed7953\"],[0.7777777777777778,\"#fb9f3a\"],[0.8888888888888888,\"#fdca26\"],[1.0,\"#f0f921\"]]},\"colorway\":[\"#636efa\",\"#EF553B\",\"#00cc96\",\"#ab63fa\",\"#FFA15A\",\"#19d3f3\",\"#FF6692\",\"#B6E880\",\"#FF97FF\",\"#FECB52\"],\"font\":{\"color\":\"#2a3f5f\"},\"geo\":{\"bgcolor\":\"white\",\"lakecolor\":\"white\",\"landcolor\":\"#E5ECF6\",\"showlakes\":true,\"showland\":true,\"subunitcolor\":\"white\"},\"hoverlabel\":{\"align\":\"left\"},\"hovermode\":\"closest\",\"mapbox\":{\"style\":\"light\"},\"paper_bgcolor\":\"white\",\"plot_bgcolor\":\"#E5ECF6\",\"polar\":{\"angularaxis\":{\"gridcolor\":\"white\",\"linecolor\":\"white\",\"ticks\":\"\"},\"bgcolor\":\"#E5ECF6\",\"radialaxis\":{\"gridcolor\":\"white\",\"linecolor\":\"white\",\"ticks\":\"\"}},\"scene\":{\"xaxis\":{\"backgroundcolor\":\"#E5ECF6\",\"gridcolor\":\"white\",\"gridwidth\":2,\"linecolor\":\"white\",\"showbackground\":true,\"ticks\":\"\",\"zerolinecolor\":\"white\"},\"yaxis\":{\"backgroundcolor\":\"#E5ECF6\",\"gridcolor\":\"white\",\"gridwidth\":2,\"linecolor\":\"white\",\"showbackground\":true,\"ticks\":\"\",\"zerolinecolor\":\"white\"},\"zaxis\":{\"backgroundcolor\":\"#E5ECF6\",\"gridcolor\":\"white\",\"gridwidth\":2,\"linecolor\":\"white\",\"showbackground\":true,\"ticks\":\"\",\"zerolinecolor\":\"white\"}},\"shapedefaults\":{\"line\":{\"color\":\"#2a3f5f\"}},\"ternary\":{\"aaxis\":{\"gridcolor\":\"white\",\"linecolor\":\"white\",\"ticks\":\"\"},\"baxis\":{\"gridcolor\":\"white\",\"linecolor\":\"white\",\"ticks\":\"\"},\"bgcolor\":\"#E5ECF6\",\"caxis\":{\"gridcolor\":\"white\",\"linecolor\":\"white\",\"ticks\":\"\"}},\"title\":{\"x\":0.05},\"xaxis\":{\"automargin\":true,\"gridcolor\":\"white\",\"linecolor\":\"white\",\"ticks\":\"\",\"title\":{\"standoff\":15},\"zerolinecolor\":\"white\",\"zerolinewidth\":2},\"yaxis\":{\"automargin\":true,\"gridcolor\":\"white\",\"linecolor\":\"white\",\"ticks\":\"\",\"title\":{\"standoff\":15},\"zerolinecolor\":\"white\",\"zerolinewidth\":2}}},\"font\":{\"size\":16},\"width\":500,\"height\":500,\"title\":{\"text\":\"Confusion Matrix\"}},                        {\"responsive\": true}                    ).then(function(){\n",
              "                            \n",
              "var gd = document.getElementById('17cdb60e-1338-4c9b-8cab-ef8c24d1762a');\n",
              "var x = new MutationObserver(function (mutations, observer) {{\n",
              "        var display = window.getComputedStyle(gd).display;\n",
              "        if (!display || display === 'none') {{\n",
              "            console.log([gd, 'removed!']);\n",
              "            Plotly.purge(gd);\n",
              "            observer.disconnect();\n",
              "        }}\n",
              "}});\n",
              "\n",
              "// Listen for the removal of the full notebook cells\n",
              "var notebookContainer = gd.closest('#notebook-container');\n",
              "if (notebookContainer) {{\n",
              "    x.observe(notebookContainer, {childList: true});\n",
              "}}\n",
              "\n",
              "// Listen for the clearing of the current output cell\n",
              "var outputEl = gd.closest('.output');\n",
              "if (outputEl) {{\n",
              "    x.observe(outputEl, {childList: true});\n",
              "}}\n",
              "\n",
              "                        })                };                            </script>        </div>\n",
              "</body>\n",
              "</html>"
            ]
          },
          "metadata": {}
        }
      ]
    },
    {
      "cell_type": "code",
      "source": [
        "from sklearn.metrics import classification_report\n",
        "\n",
        "print(classification_report(y_test, y_pred))"
      ],
      "metadata": {
        "colab": {
          "base_uri": "https://localhost:8080/"
        },
        "id": "As_WLByju34C",
        "outputId": "12d8ff25-238e-47ce-cd83-50ef9e5cc334"
      },
      "execution_count": 21,
      "outputs": [
        {
          "output_type": "stream",
          "name": "stdout",
          "text": [
            "              precision    recall  f1-score   support\n",
            "\n",
            "           0       0.96      0.98      0.97        54\n",
            "           1       0.99      0.98      0.98        89\n",
            "\n",
            "    accuracy                           0.98       143\n",
            "   macro avg       0.98      0.98      0.98       143\n",
            "weighted avg       0.98      0.98      0.98       143\n",
            "\n"
          ]
        }
      ]
    }
  ]
}