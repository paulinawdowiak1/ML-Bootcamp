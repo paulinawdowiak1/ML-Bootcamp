{
  "nbformat": 4,
  "nbformat_minor": 0,
  "metadata": {
    "colab": {
      "provenance": [],
      "include_colab_link": true
    },
    "kernelspec": {
      "name": "python3",
      "display_name": "Python 3"
    },
    "accelerator": "GPU"
  },
  "cells": [
    {
      "cell_type": "markdown",
      "metadata": {
        "id": "view-in-github",
        "colab_type": "text"
      },
      "source": [
        "<a href=\"https://colab.research.google.com/github/paulinawdowiak1/ML-Bootcamp/blob/main/neuron_networks/03_Deep_Learning_tensor.ipynb\" target=\"_parent\"><img src=\"https://colab.research.google.com/assets/colab-badge.svg\" alt=\"Open In Colab\"/></a>"
      ]
    },
    {
      "cell_type": "markdown",
      "metadata": {
        "id": "RimajeFbTlL_"
      },
      "source": [
        "* @author: krakowiakpawel9@gmail.com  \n",
        "* @site: e-smartdata.org"
      ]
    },
    {
      "cell_type": "markdown",
      "metadata": {
        "id": "pl9Crb8V7DJC"
      },
      "source": [
        "### Spis treści\n",
        "1. [Import bibliotek](#a0)\n",
        "2. [Skalar](#a1)\n",
        "3. [Wektor](#a2)\n",
        "4. [Tablica ~ macierz](#a3)\n",
        "5. [Tensor](#a4)"
      ]
    },
    {
      "cell_type": "markdown",
      "metadata": {
        "id": "CkqfVl6slWDv"
      },
      "source": [
        "### <a name='a0'></a> 1. Import bibliotek"
      ]
    },
    {
      "cell_type": "code",
      "metadata": {
        "id": "_WTOYPJ7lVs5"
      },
      "source": [
        "import numpy as np"
      ],
      "execution_count": null,
      "outputs": []
    },
    {
      "cell_type": "markdown",
      "metadata": {
        "id": "pLHn8AAxlg5f"
      },
      "source": [
        "### <a name='a1'> </a> 2. Skalar "
      ]
    },
    {
      "cell_type": "code",
      "metadata": {
        "id": "9-_4-IVClfme",
        "outputId": "fc3de37d-e024-4d98-ebc4-c673010e6ce7",
        "colab": {
          "base_uri": "https://localhost:8080/"
        }
      },
      "source": [
        "scalar = 3\n",
        "print(scalar)\n",
        "print(type(scalar))\n",
        "#skalar - wartość numeryczna (liczba całkowita/rzeczywista)"
      ],
      "execution_count": null,
      "outputs": [
        {
          "output_type": "stream",
          "name": "stdout",
          "text": [
            "3\n",
            "<class 'int'>\n"
          ]
        }
      ]
    },
    {
      "cell_type": "code",
      "metadata": {
        "id": "8wGfoHv88M9k",
        "outputId": "f2221878-1989-4c11-8de7-05425a3b76f8",
        "colab": {
          "base_uri": "https://localhost:8080/"
        }
      },
      "source": [
        "scalar = 3.0\n",
        "print(scalar)\n",
        "print(type(scalar))"
      ],
      "execution_count": null,
      "outputs": [
        {
          "output_type": "stream",
          "name": "stdout",
          "text": [
            "3.0\n",
            "<class 'float'>\n"
          ]
        }
      ]
    },
    {
      "cell_type": "markdown",
      "metadata": {
        "id": "Qcvj78eemPGF"
      },
      "source": [
        "### <a name='a2'> </a> 3. Wektor"
      ]
    },
    {
      "cell_type": "code",
      "metadata": {
        "id": "_qWeeuEXlgIn",
        "outputId": "79f1551c-6dda-4406-d1af-8c1060473dc5",
        "colab": {
          "base_uri": "https://localhost:8080/"
        }
      },
      "source": [
        "vector = np.array([2, 4, -6, 5])\n",
        "print(vector)\n",
        "print(type(vector))\n",
        "print(f'Rozmiar wektora: {vector.shape}')\n",
        "print(f'Typ danych wektora: {vector.dtype}')\n",
        "print(f'Rząd: {vector.ndim}')\n",
        "print(f'Długość: {len(vector)}')\n",
        "#wektor - tablica wartości / rząd wektora - tensor rzędu 1"
      ],
      "execution_count": null,
      "outputs": [
        {
          "output_type": "stream",
          "name": "stdout",
          "text": [
            "[ 2  4 -6  5]\n",
            "<class 'numpy.ndarray'>\n",
            "Rozmiar wektora: (4,)\n",
            "Typ danych wektora: int64\n",
            "Rząd: 1\n",
            "Długość: 4\n"
          ]
        }
      ]
    },
    {
      "cell_type": "code",
      "metadata": {
        "id": "SLC9_Tr18XoS",
        "outputId": "b88ec1ed-4dcc-4328-f133-7ba4e5c2ee8e",
        "colab": {
          "base_uri": "https://localhost:8080/"
        }
      },
      "source": [
        "vector = np.array([2, 4, -6, 5], dtype='float')\n",
        "print(vector)\n",
        "print(f'Typ danych wektora: {vector.dtype}')\n"
      ],
      "execution_count": null,
      "outputs": [
        {
          "output_type": "stream",
          "name": "stdout",
          "text": [
            "[ 2.  4. -6.  5.]\n",
            "Typ danych wektora: float64\n"
          ]
        }
      ]
    },
    {
      "cell_type": "markdown",
      "metadata": {
        "id": "RWoPx0u_my07"
      },
      "source": [
        "### <a name='a3'> </a> 4.Tablica ~ Macierz"
      ]
    },
    {
      "cell_type": "code",
      "metadata": {
        "id": "DB3HvPORmZn0",
        "outputId": "f0083185-2e4d-4fa0-b940-b800e20a509e",
        "colab": {
          "base_uri": "https://localhost:8080/"
        }
      },
      "source": [
        "array = np.array([[2, 6, 3],\n",
        "                  [5, -3, 4]])\n",
        "print(array)\n",
        "print(type(array))\n",
        "print(f'Rozmiar macierzy: {array.shape}')\n",
        "print(f'Typ danych macierzy: {array.dtype}')\n",
        "print(f'Rząd: {array.ndim}')\n",
        "print(f'Długosc: {len(array)}')"
      ],
      "execution_count": null,
      "outputs": [
        {
          "output_type": "stream",
          "name": "stdout",
          "text": [
            "[[ 2  6  3]\n",
            " [ 5 -3  4]]\n",
            "<class 'numpy.ndarray'>\n",
            "Rozmiar macierzy: (2, 3)\n",
            "Typ danych macierzy: int64\n",
            "Rząd: 2\n",
            "Długosc: 2\n"
          ]
        }
      ]
    },
    {
      "cell_type": "code",
      "metadata": {
        "id": "1FCcwxPA9QnP",
        "outputId": "148d176b-2577-4afa-a5df-f220d0882473",
        "colab": {
          "base_uri": "https://localhost:8080/"
        }
      },
      "source": [
        "array = np.array([[2, 6, 3],\n",
        "                  [5, 3, 4],\n",
        "                  [4, 2, 1]], dtype='float')\n",
        "print(array)\n",
        "print(f'Rozmiar macierzy: {array.shape}')\n",
        "print(f'Typ danych macierzy: {array.dtype}')\n",
        "print(f'Rząd: {array.ndim}')\n",
        "print(f'Długosc: {len(array)}')"
      ],
      "execution_count": null,
      "outputs": [
        {
          "output_type": "stream",
          "name": "stdout",
          "text": [
            "[[2. 6. 3.]\n",
            " [5. 3. 4.]\n",
            " [4. 2. 1.]]\n",
            "Rozmiar macierzy: (3, 3)\n",
            "Typ danych macierzy: float64\n",
            "Rząd: 2\n",
            "Długosc: 3\n"
          ]
        }
      ]
    },
    {
      "cell_type": "markdown",
      "metadata": {
        "id": "1ytwRCbmwZJm"
      },
      "source": [
        "### <a name='a4'> </a> 5. Tensor"
      ]
    },
    {
      "cell_type": "code",
      "metadata": {
        "id": "l1fU34EZqB5P",
        "outputId": "532cd52d-0d01-4c65-8c09-b82cb55d6965",
        "colab": {
          "base_uri": "https://localhost:8080/"
        }
      },
      "source": [
        "tensor = np.array([\n",
        "    [[1, 2, 3],\n",
        "     [4, 5, 6]],\n",
        "    [[7, 8, 9],\n",
        "     [3, 7, 3]]\n",
        "])\n",
        "\n",
        "print(tensor)\n",
        "print(type(tensor))\n",
        "print(f'Rozmiar macierzy: {tensor.shape}')\n",
        "print(f'Typ danych macierzy: {tensor.dtype}')\n",
        "print(f'Rząd: {tensor.ndim}')\n",
        "print(f'Długosc: {len(tensor)}')\n",
        "# tensor - uogólnienie macierzy/ wektora na wyższe wymiary niezbędny do zapisywania danych typu zdjęcie, wideo"
      ],
      "execution_count": null,
      "outputs": [
        {
          "output_type": "stream",
          "name": "stdout",
          "text": [
            "[[[1 2 3]\n",
            "  [4 5 6]]\n",
            "\n",
            " [[7 8 9]\n",
            "  [3 7 3]]]\n",
            "<class 'numpy.ndarray'>\n",
            "Rozmiar macierzy: (2, 2, 3)\n",
            "Typ danych macierzy: int64\n",
            "Rząd: 3\n",
            "Długosc: 2\n"
          ]
        }
      ]
    },
    {
      "cell_type": "code",
      "metadata": {
        "id": "0VeCFi0uuwcj",
        "outputId": "577e2163-86b3-428e-ef47-6d4857d06654",
        "colab": {
          "base_uri": "https://localhost:8080/"
        }
      },
      "source": [
        "tensor = np.array([\n",
        "    [[1, 2, 3],\n",
        "     [4, 5, 6]],\n",
        "    [[7, 8, 9],\n",
        "     [3, 7, 3]],\n",
        "    [[2, 3, 5],\n",
        "     [7, 2, 5]]\n",
        "])\n",
        "\n",
        "print(tensor)\n",
        "print(type(tensor))\n",
        "print(f'Rozmiar macierzy: {tensor.shape}')\n",
        "print(f'Typ danych macierzy: {tensor.dtype}')\n",
        "print(f'Rząd: {tensor.ndim}')\n",
        "print(f'Długosc: {len(tensor)}')"
      ],
      "execution_count": null,
      "outputs": [
        {
          "output_type": "stream",
          "name": "stdout",
          "text": [
            "[[[1 2 3]\n",
            "  [4 5 6]]\n",
            "\n",
            " [[7 8 9]\n",
            "  [3 7 3]]\n",
            "\n",
            " [[2 3 5]\n",
            "  [7 2 5]]]\n",
            "<class 'numpy.ndarray'>\n",
            "Rozmiar macierzy: (3, 2, 3)\n",
            "Typ danych macierzy: int64\n",
            "Rząd: 3\n",
            "Długosc: 3\n"
          ]
        }
      ]
    },
    {
      "cell_type": "code",
      "metadata": {
        "id": "1FA_o1KXwfcO",
        "outputId": "3a78bb0e-bcbd-42d3-dbc3-53f71ecc6fe0",
        "colab": {
          "base_uri": "https://localhost:8080/"
        }
      },
      "source": [
        "tensor = np.array([\n",
        "    [[1, 2, 3, 4],\n",
        "     [4, 5, 6, 4],\n",
        "     [4, 2, 5, 2]],\n",
        "    [[7, 8, 9, 8],\n",
        "     [3, 7, 3, 9],\n",
        "     [5, 2, 4, 3]],\n",
        "    [[2, 3, 5, 4],\n",
        "     [7, 2, 5, 1],\n",
        "     [8, 2, 7, 2]],\n",
        "    [[2, 3, 5, 7],\n",
        "     [7, 2, 5, 9],\n",
        "     [8, 2, 7, 0]],\n",
        "    [[2, 3, 5, 7],\n",
        "     [7, 2, 5, 9],\n",
        "     [8, 2, 7, 0]]\n",
        "])\n",
        "\n",
        "print(tensor)\n",
        "print(type(tensor))\n",
        "print(f'Rozmiar macierzy: {tensor.shape}')\n",
        "print(f'Typ danych macierzy: {tensor.dtype}')\n",
        "print(f'Rząd: {tensor.ndim}')\n",
        "print(f'Długosc: {len(tensor)}')"
      ],
      "execution_count": null,
      "outputs": [
        {
          "output_type": "stream",
          "name": "stdout",
          "text": [
            "[[[1 2 3 4]\n",
            "  [4 5 6 4]\n",
            "  [4 2 5 2]]\n",
            "\n",
            " [[7 8 9 8]\n",
            "  [3 7 3 9]\n",
            "  [5 2 4 3]]\n",
            "\n",
            " [[2 3 5 4]\n",
            "  [7 2 5 1]\n",
            "  [8 2 7 2]]\n",
            "\n",
            " [[2 3 5 7]\n",
            "  [7 2 5 9]\n",
            "  [8 2 7 0]]\n",
            "\n",
            " [[2 3 5 7]\n",
            "  [7 2 5 9]\n",
            "  [8 2 7 0]]]\n",
            "<class 'numpy.ndarray'>\n",
            "Rozmiar macierzy: (5, 3, 4)\n",
            "Typ danych macierzy: int64\n",
            "Rząd: 3\n",
            "Długosc: 5\n"
          ]
        }
      ]
    },
    {
      "cell_type": "code",
      "metadata": {
        "id": "xc0yqHl19-I5",
        "outputId": "4b630d8c-958a-4a48-cfec-737168538dd7",
        "colab": {
          "base_uri": "https://localhost:8080/"
        }
      },
      "source": [
        "tensor"
      ],
      "execution_count": null,
      "outputs": [
        {
          "output_type": "execute_result",
          "data": {
            "text/plain": [
              "array([[[1, 2, 3, 4],\n",
              "        [4, 5, 6, 4],\n",
              "        [4, 2, 5, 2]],\n",
              "\n",
              "       [[7, 8, 9, 8],\n",
              "        [3, 7, 3, 9],\n",
              "        [5, 2, 4, 3]],\n",
              "\n",
              "       [[2, 3, 5, 4],\n",
              "        [7, 2, 5, 1],\n",
              "        [8, 2, 7, 2]],\n",
              "\n",
              "       [[2, 3, 5, 7],\n",
              "        [7, 2, 5, 9],\n",
              "        [8, 2, 7, 0]],\n",
              "\n",
              "       [[2, 3, 5, 7],\n",
              "        [7, 2, 5, 9],\n",
              "        [8, 2, 7, 0]]])"
            ]
          },
          "metadata": {},
          "execution_count": 11
        }
      ]
    },
    {
      "cell_type": "code",
      "metadata": {
        "id": "g5-Jsx0ww6BH",
        "outputId": "f58396b5-b005-4593-ee93-134e8c6c24a6",
        "colab": {
          "base_uri": "https://localhost:8080/"
        }
      },
      "source": [
        "tensor[0]"
      ],
      "execution_count": null,
      "outputs": [
        {
          "output_type": "execute_result",
          "data": {
            "text/plain": [
              "array([[1, 2, 3, 4],\n",
              "       [4, 5, 6, 4],\n",
              "       [4, 2, 5, 2]])"
            ]
          },
          "metadata": {},
          "execution_count": 12
        }
      ]
    },
    {
      "cell_type": "code",
      "metadata": {
        "id": "9AUo01Hq98DM",
        "outputId": "2c743c57-18e8-40c9-ffc5-ba8daea33070",
        "colab": {
          "base_uri": "https://localhost:8080/"
        }
      },
      "source": [
        "tensor[0:2]"
      ],
      "execution_count": null,
      "outputs": [
        {
          "output_type": "execute_result",
          "data": {
            "text/plain": [
              "array([[[1, 2, 3, 4],\n",
              "        [4, 5, 6, 4],\n",
              "        [4, 2, 5, 2]],\n",
              "\n",
              "       [[7, 8, 9, 8],\n",
              "        [3, 7, 3, 9],\n",
              "        [5, 2, 4, 3]]])"
            ]
          },
          "metadata": {},
          "execution_count": 13
        }
      ]
    }
  ]
}